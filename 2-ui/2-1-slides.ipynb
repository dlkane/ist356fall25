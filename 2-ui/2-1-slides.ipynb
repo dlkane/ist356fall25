{
 "cells": [
  {
   "cell_type": "markdown",
   "metadata": {},
   "source": [
    "# UI 2-1\n",
    "\n",
    "Ipywidgets and Interact in Jupyter\n"
   ]
  },
  {
   "cell_type": "markdown",
   "metadata": {},
   "source": [
    "## Notebook widgets:  ipywidgets\n",
    "\n",
    "The jupyter notebook widgets create better UI interactions in notebooks. This is called the ipywidgets library. There is a lot to this library but we will keep our interactions simple:\n",
    "\n",
    "To replace `input()` statements we use the `interact_manual` decorator function. Like a hat decorates your head, decorator function adds code to another function.\n",
    "\n",
    "`interact_manual` decorator does the following:\n",
    "\n",
    "- generates a *textbox* for any string input\n",
    "- generates a *slider* for any int/float input\n",
    "- generates a *dropdown* for any list input\n",
    "- generates a *button* titled \"Run interact\"\n",
    "\n",
    "When the **button is clicked** the code inside the decorated function is executed and the widget values are used as input. Use `display()` instead of `print()` for output."
   ]
  },
  {
   "cell_type": "code",
   "execution_count": 1,
   "metadata": {},
   "outputs": [
    {
     "ename": "ModuleNotFoundError",
     "evalue": "No module named 'ipywidgets'",
     "output_type": "error",
     "traceback": [
      "\u001b[31m---------------------------------------------------------------------------\u001b[39m",
      "\u001b[31mModuleNotFoundError\u001b[39m                       Traceback (most recent call last)",
      "\u001b[36mCell\u001b[39m\u001b[36m \u001b[39m\u001b[32mIn[1]\u001b[39m\u001b[32m, line 3\u001b[39m\n\u001b[32m      1\u001b[39m \u001b[38;5;66;03m# Necessary imports to make this work\u001b[39;00m\n\u001b[32m      2\u001b[39m \u001b[38;5;28;01mfrom\u001b[39;00m\u001b[38;5;250m \u001b[39m\u001b[34;01mIPython\u001b[39;00m\u001b[34;01m.\u001b[39;00m\u001b[34;01mdisplay\u001b[39;00m\u001b[38;5;250m \u001b[39m\u001b[38;5;28;01mimport\u001b[39;00m display\n\u001b[32m----> \u001b[39m\u001b[32m3\u001b[39m \u001b[38;5;28;01mfrom\u001b[39;00m\u001b[38;5;250m \u001b[39m\u001b[34;01mipywidgets\u001b[39;00m\u001b[38;5;250m \u001b[39m\u001b[38;5;28;01mimport\u001b[39;00m interact_manual\n",
      "\u001b[31mModuleNotFoundError\u001b[39m: No module named 'ipywidgets'"
     ]
    }
   ],
   "source": [
    "# Necessary imports to make this work\n",
    "from IPython.display import display\n",
    "from ipywidgets import interact_manual"
   ]
  },
  {
   "cell_type": "code",
   "execution_count": null,
   "metadata": {},
   "outputs": [
    {
     "data": {
      "application/vnd.jupyter.widget-view+json": {
       "model_id": "42003e45766f4d478874df9df6214ca7",
       "version_major": 2,
       "version_minor": 0
      },
      "text/plain": [
       "interactive(children=(Dropdown(description='color', options=('red', 'white', 'blue'), value='red'), FloatSlide…"
      ]
     },
     "metadata": {},
     "output_type": "display_data"
    }
   ],
   "source": [
    "# Example:\n",
    "vals = [ 'red', 'white', 'blue'] # this is a list type, it will generate a dropdown widget\n",
    "min, max, step = 0, 20, 0.5      # this is the range of the slider, and the steps\n",
    "text = \"testing\"                 # this is a string type, it will generate a textbox\n",
    "\n",
    "@interact_manual(color=vals, grade=(min,max,step), name=text) # DECORATOR function with values\n",
    "def on_click(color, grade, name):                             # DECORATED function. This code \n",
    "    display(color)                                            # runs when the button is clicked \n",
    "    display(grade)                                            # (thus the name on_click)\n",
    "    display(name)"
   ]
  },
  {
   "cell_type": "markdown",
   "metadata": {},
   "source": [
    "## Note\n",
    "\n",
    "For more complex interactions we will use the streamlit library"
   ]
  },
  {
   "cell_type": "markdown",
   "metadata": {},
   "source": [
    "## Challenge 2-2-1\n",
    "\n",
    "Let's create a simple widget interaction for display student status for their GPA:\n",
    "\n",
    "inputs:\n",
    "\n",
    "- student name\n",
    "- major: one of \"IMT\", \"IST\", or \"ADA\"\n",
    "- gpa between 0.0 and 4.0\n",
    "\n",
    "process:\n",
    "\n",
    "- when gpa < 1.8 then status is \"probation\"\n",
    "- when gpa > 3.4 then status is \"deans list\"\n",
    "- else status is \"no list\"\n",
    "\n",
    "output:\n",
    "\n",
    "- display the following statement:\n",
    "    \"NAME in MAJOR with GPA is on STATUS\""
   ]
  },
  {
   "cell_type": "markdown",
   "metadata": {},
   "source": []
  }
 ],
 "metadata": {
  "kernelspec": {
   "display_name": "Python 3",
   "language": "python",
   "name": "python3"
  },
  "language_info": {
   "codemirror_mode": {
    "name": "ipython",
    "version": 3
   },
   "file_extension": ".py",
   "mimetype": "text/x-python",
   "name": "python",
   "nbconvert_exporter": "python",
   "pygments_lexer": "ipython3",
   "version": "3.11.0"
  }
 },
 "nbformat": 4,
 "nbformat_minor": 2
}
